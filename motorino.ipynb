{
 "cells": [
  {
   "cell_type": "code",
   "execution_count": null,
   "metadata": {},
   "outputs": [],
   "source": [
    "import visa\n",
    "import instruments as ik\n",
    "import time\n",
    "import numpy as np\n",
    "from PyAPT import APTMotor"
   ]
  },
  {
   "cell_type": "code",
   "execution_count": null,
   "metadata": {},
   "outputs": [],
   "source": [
    "import numpy as np\n",
    "from numpy import pi, r_\n",
    "import matplotlib.pyplot as plt\n",
    "from scipy import optimize"
   ]
  },
  {
   "cell_type": "code",
   "execution_count": null,
   "metadata": {},
   "outputs": [],
   "source": [
    "#We set up our power meter\n",
    "\n",
    "rm = visa.ResourceManager()\n",
    "p=rm.list_resources()\n",
    "print(p)\n",
    "powerMeter=ik.thorlabs.PM100USB.open_visa(p[0])\n",
    "powerMeter.read()"
   ]
  },
  {
   "cell_type": "code",
   "execution_count": null,
   "metadata": {},
   "outputs": [],
   "source": [
    "motorino=APTMotor(27250652)   #the argument is the motor ID\n",
    "\n",
    "#we check what is the beginning position of the motor:\n",
    "inPos=motorino.getPos()\n",
    "print(inPos)\n",
    "\n",
    "# and reset it to its zero position; note that there may be an offset between the motor \n",
    "# and your instrument, which in our case is an LC, so an optics that can browse between 0 and \n",
    "# 360 degrees:\n",
    "motorino.go_home()"
   ]
  },
  {
   "cell_type": "code",
   "execution_count": null,
   "metadata": {},
   "outputs": [],
   "source": [
    "# We perform the LC caracterization via the motor; in order to do that, we implement \n",
    "# a simple parabolic fit."
   ]
  },
  {
   "cell_type": "code",
   "execution_count": null,
   "metadata": {},
   "outputs": [],
   "source": [
    "alpha=0  #angle we suspect corresponds to the minimum\n",
    "power=[]\n",
    "for(i=alpha-10, i<alpha+10, i++):   #we keep the power meter value around the minimum\n",
    "    power.append(powerMeter.read())"
   ]
  },
  {
   "cell_type": "code",
   "execution_count": null,
   "metadata": {},
   "outputs": [],
   "source": [
    "fitfunc = lambda p, x: p[0]+p[1]*x+p[2]*x**2  # Target function\n",
    "time = np.linspace(25, 45, 40)\n",
    "errfunc = lambda p, x, y: fitfunc(p, x) - y # Distance to the target function\n",
    "p0 = [100, 0, 1] # Initial guess for the parameters\n",
    "p1, success = optimize.leastsq(errfunc, p0[:], args=(x, power))\n",
    "\n",
    "alpha_min=np.argmin(fitfunc(p1,time))   #angle the fit calculated to be the minimum\n",
    "\n",
    "plt.plot(x, power, \"ro\", time,fitfunc(p1, time),  \"r-\") # Plot of the data and the fit\n",
    "plt.show()\n"
   ]
  },
  {
   "cell_type": "code",
   "execution_count": null,
   "metadata": {},
   "outputs": [],
   "source": [
    "# We want to save pictures of the output mode via the CCD that is at the edn of our \n",
    "# experimental setup throughout the span of our LC between -45 degrees and 0 degrees. We\n",
    "# capture a frame every second. We displace our LC of an angle dx. The time needed to \n",
    "#perform such a displacemnt is tr. We want to take 250 pictures. Hence we make a cycle \n",
    "#synchronized with these instrumental times."
   ]
  },
  {
   "cell_type": "code",
   "execution_count": null,
   "metadata": {},
   "outputs": [],
   "source": [
    "Nsteps=250\n",
    "dx=0.18\n",
    "tr=7.2*10**-3\n",
    "t=1-tr\n",
    "power=np.zeros(shape=Nsteps)\n",
    "for i in range(Nsteps):\n",
    "    print(motorino.getPos())\n",
    "    motorino.mRel(dx)\n",
    "    time.sleep(t)"
   ]
  }
 ],
 "metadata": {
  "kernelspec": {
   "display_name": "Python 3",
   "language": "python",
   "name": "python3"
  },
  "language_info": {
   "codemirror_mode": {
    "name": "ipython",
    "version": 3
   },
   "file_extension": ".py",
   "mimetype": "text/x-python",
   "name": "python",
   "nbconvert_exporter": "python",
   "pygments_lexer": "ipython3",
   "version": "3.5.5"
  }
 },
 "nbformat": 4,
 "nbformat_minor": 2
}
